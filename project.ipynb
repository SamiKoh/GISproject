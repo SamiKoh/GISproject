version https://git-lfs.github.com/spec/v1
oid sha256:727596864a3711bb9282cec711c203d0f9e0a5ebf353a8ae36316f9171062748
size 154146702
